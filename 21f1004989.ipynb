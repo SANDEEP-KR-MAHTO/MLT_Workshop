{
  "nbformat": 4,
  "nbformat_minor": 0,
  "metadata": {
    "colab": {
      "provenance": []
    },
    "kernelspec": {
      "name": "python3",
      "display_name": "Python 3"
    },
    "language_info": {
      "name": "python"
    }
  },
  "cells": [
    {
      "cell_type": "markdown",
      "source": [
        "## Instructions\n",
        "\n",
        "- There are $17$ NAT questions with marks distributed as $1 \\times 2 + 16 \\times 3 = 50$.\n",
        "- Answers to all questions are going to be integers.\n",
        "- Solve the problem in the colab and enter the answer in the portal.\n",
        "- Always run the data-cell before running the solution cell.\n",
        "- In questions where a data-matrix $\\mathbf{X}$ and label-vector $\\mathbf{y}$ are mentioned, the data-cell will have the corresponding entries as `X` and `y`.\n",
        "- All other vectors, matrices and scalars necessary for solving the problem will be given in the data-cell. They will have the same name as the ones mentioned in the problem statement."
      ],
      "metadata": {
        "id": "t3Nnu-W2QRde"
      }
    },
    {
      "cell_type": "markdown",
      "source": [
        "## Notation\n",
        "\n",
        "- The data-matrix in all problems will be of shape $d \\times n$, where $d$ is the number of features and $n$ is the number of data-points.\n",
        "- If $\\mathbf{x} = (1, 2, 3)$ is a vector, $1, 2$ and $3$ are termed the components of $\\mathbf{x}$. The sum of the components of $\\mathbf{x}$ is $6$.\n",
        "- The norm of a vector $\\mathbf{x}$ is the Euclidean norm ($L_2$) by default. This is the only norm used in this exam.\n",
        "- All vectors will be represented as one-dimensional NumPy arrays. All matrices will be represented as two-dimensional NumPy arrays."
      ],
      "metadata": {
        "id": "OlT8_lBECghZ"
      }
    },
    {
      "cell_type": "markdown",
      "source": [
        "## Useful functions\n",
        "\n",
        "- `np.linalg.norm` can be used to compute the norm of a vector.\n",
        "- Use the question mark to get more info about a function. For example, `np.linalg.norm?` will give you more details about this method.\n",
        "- `round` is a function that can be used to find the nearest integer. For example, `round(1.2) == 1` and `round(1.9) == 2`."
      ],
      "metadata": {
        "id": "XR6-XL-Pcz-E"
      }
    },
    {
      "cell_type": "code",
      "source": [
        "import numpy as np\n",
        "import matplotlib.pyplot as plt"
      ],
      "metadata": {
        "id": "G9xfb6EDlxIy"
      },
      "execution_count": 1,
      "outputs": []
    },
    {
      "cell_type": "markdown",
      "source": [
        "## Question-1 [2 marks]\n",
        "\n",
        "$\\mathbf{X}$ is a data-matrix. If $\\boldsymbol{\\mu}$ is the mean of the data-points, find the norm of $\\boldsymbol{\\mu}$ and enter the nearest integer as your answer."
      ],
      "metadata": {
        "id": "tZ1jfgAunSbW"
      }
    },
    {
      "cell_type": "code",
      "source": [
        "# DATA CELL\n",
        "# DO NOT EDIT THIS\n",
        "rng = np.random.default_rng(seed = 1000)\n",
        "d = rng.integers(2, 10)\n",
        "n = rng.integers(40, 50)\n",
        "X = rng.integers(-5, 10, (d, n))"
      ],
      "metadata": {
        "id": "VZlO9j6Jnyww"
      },
      "execution_count": 2,
      "outputs": []
    },
    {
      "cell_type": "code",
      "source": [],
      "metadata": {
        "id": "x_qG3XnWAbkP"
      },
      "execution_count": null,
      "outputs": []
    },
    {
      "cell_type": "code",
      "source": [
        "# Solution\n",
        "mu= X.mean(axis=1)\n",
        "round(np.linalg.norm(mu))"
      ],
      "metadata": {
        "id": "v2MDy_FHoLx-",
        "colab": {
          "base_uri": "https://localhost:8080/"
        },
        "outputId": "ca3f8cca-f1fe-438e-bf21-656e07f7d88d"
      },
      "execution_count": 8,
      "outputs": [
        {
          "output_type": "execute_result",
          "data": {
            "text/plain": [
              "3"
            ]
          },
          "metadata": {},
          "execution_count": 8
        }
      ]
    },
    {
      "cell_type": "markdown",
      "source": [
        "## Question-2 [3 marks]\n",
        "\n",
        "$\\mathbf{X}$ is a data-matrix. Find the number of data-points whose norm is at least $k$."
      ],
      "metadata": {
        "id": "hlD-5BqllMj7"
      }
    },
    {
      "cell_type": "code",
      "execution_count": 9,
      "metadata": {
        "id": "cHRVHV1xlCme"
      },
      "outputs": [],
      "source": [
        "# DATA CELL\n",
        "# DO NOT EDIT THIS\n",
        "rng = np.random.default_rng(seed = 1001)\n",
        "k = rng.integers(10, 20)\n",
        "d = rng.integers(5, 10)\n",
        "n = rng.integers(50, 100)\n",
        "X = rng.integers(-10, 10, (d, n))"
      ]
    },
    {
      "cell_type": "code",
      "source": [
        "# Solution\n",
        "# Run the data cell before running this\n",
        "sum=0\n",
        "for i in range(n):\n",
        "  if np.linalg.norm(X[:,i]) >= k:\n",
        "    sum += 1\n",
        "\n",
        "print(sum)"
      ],
      "metadata": {
        "id": "-N-NZ085mA-1",
        "colab": {
          "base_uri": "https://localhost:8080/"
        },
        "outputId": "8e553eab-8295-4235-8bc2-fc0da07cdc61"
      },
      "execution_count": 10,
      "outputs": [
        {
          "output_type": "stream",
          "name": "stdout",
          "text": [
            "12\n"
          ]
        }
      ]
    },
    {
      "cell_type": "markdown",
      "source": [
        "## Question-3 [3 marks]\n",
        "\n",
        "Consider a matrix $\\mathbf{A}$ of shape $m \\times n$. Find the trace of the matrix $\\mathbf{A}^T \\mathbf{A}$, where the trace is the sum of the diagonal elements. The diagonal here is the main diagonal (top-left to bottom-right)."
      ],
      "metadata": {
        "id": "RXl92AUGocO_"
      }
    },
    {
      "cell_type": "code",
      "source": [
        "# DATA CELL\n",
        "# DO NOT EDIT THIS\n",
        "rng = np.random.default_rng(seed = 1002)\n",
        "m, n = rng.integers(50, 100, 2)\n",
        "A = rng.integers(-1, 2, (m, n))"
      ],
      "metadata": {
        "id": "Jeit_vadozZx"
      },
      "execution_count": 11,
      "outputs": []
    },
    {
      "cell_type": "code",
      "source": [
        "# Solution\n",
        "# Run the data cell before running this\n",
        "M = A.T @ A\n",
        "sum=0\n",
        "\n",
        "for i in range(n):\n",
        "  for j in range(n):\n",
        "    if i == j:\n",
        "      sum += M[i,j]\n",
        "print(sum)"
      ],
      "metadata": {
        "id": "cwIolxUOpPy2",
        "colab": {
          "base_uri": "https://localhost:8080/"
        },
        "outputId": "32b22009-92f1-440b-c6b8-0f65804ffd44"
      },
      "execution_count": 12,
      "outputs": [
        {
          "output_type": "stream",
          "name": "stdout",
          "text": [
            "3657\n"
          ]
        }
      ]
    },
    {
      "cell_type": "markdown",
      "source": [
        "## Question-4 [3 marks]\n",
        "\n",
        "Consider the curves:\n",
        "\n",
        "$$\n",
        "\\begin{aligned}\n",
        "y &= xe^{x}\\\\\\\\\n",
        "y &= \\sin(10 \\pi x)\n",
        "\\end{aligned}\n",
        "$$\n",
        "\n",
        "Find the number of points at which these two curves intersect in the interval $0.15 \\leqslant x \\leqslant 0.5$."
      ],
      "metadata": {
        "id": "WVaAy1i8piTh"
      }
    },
    {
      "cell_type": "code",
      "source": [
        "# Solution\n",
        "def function(x):\n",
        "  return x*np.e**x - np.sin(10*np.pi*x)\n",
        "\n",
        "\n",
        "x_val= np.linspace(0.15,0.5)\n",
        "\n",
        "plt.plot(x_val, function(x_val), color='red', label='fn-1')\n",
        "plt.plot(x_val, function(x_val)*0, color='green', label='fn-2')\n",
        "\n",
        "plt.legend()\n",
        "plt.show()"
      ],
      "metadata": {
        "id": "L2SZuyuuptkx",
        "colab": {
          "base_uri": "https://localhost:8080/",
          "height": 430
        },
        "outputId": "520c79b1-0920-42a7-e86e-c3d9f45d79dd"
      },
      "execution_count": 13,
      "outputs": [
        {
          "output_type": "display_data",
          "data": {
            "text/plain": [
              "<Figure size 640x480 with 1 Axes>"
            ],
            "image/png": "[encoded data removed]"
          },
          "metadata": {}
        }
      ]
    },
    {
      "cell_type": "markdown",
      "source": [
        "## Question-5 [3 marks]\n",
        "\n",
        "Consider the system of equations $\\mathbf{Ax} = \\mathbf{b}$, where:\n",
        "\n",
        "$$\n",
        "\\mathbf{A} = \\begin{bmatrix}\n",
        "1 & 2 & -1 & 3\\\\\n",
        "0 & 1 & 2 & -1\\\\\n",
        "1 & -2 & 3 & 1\\\\\n",
        "0 & -1 & -1 & 2\n",
        "\\end{bmatrix}, \\quad \\mathbf{b} = \\begin{bmatrix}\n",
        "1\\\\\n",
        "2\\\\\n",
        "-1\\\\\n",
        "0\n",
        "\\end{bmatrix}\n",
        "$$\n",
        "\n",
        "If $A$ is invertible, find the solution to this system, and enter the sum of the components of the solution as the answer. Your answer should be an integer."
      ],
      "metadata": {
        "id": "ZdSKq7Koq2hk"
      }
    },
    {
      "cell_type": "code",
      "source": [
        "# Solution\n",
        "A=np.array([[1,2,-1,3],\n",
        "            [0,1,2,-1],\n",
        "            [1,-2,3,1],\n",
        "            [0,-1,-1,2]])\n",
        "\n",
        "b=np.array([1,2,-1,0]).reshape(4,1)\n",
        "\n",
        "\n",
        "x=np.linalg.inv(A) @ b\n",
        "\n",
        "x.sum()"
      ],
      "metadata": {
        "id": "8nPU1UrxrQK-",
        "colab": {
          "base_uri": "https://localhost:8080/"
        },
        "outputId": "d71009eb-bb22-490b-b68b-d61c402d9af6"
      },
      "execution_count": 16,
      "outputs": [
        {
          "output_type": "execute_result",
          "data": {
            "text/plain": [
              "0.0"
            ]
          },
          "metadata": {},
          "execution_count": 16
        }
      ]
    },
    {
      "cell_type": "markdown",
      "source": [
        "## Question-6 [3 marks]\n",
        "\n",
        "Let $\\mathbf{w}$ be the weight vector of a linear classifier trained on a dataset for a binary classification problem with data-matrix $\\mathbf{X}$ and true label vector $\\mathbf{y}$. The predicted label for a data-point $\\mathbf{x}$ defined as:\n",
        "\n",
        "$$\n",
        "\\widehat{y} = \\begin{cases}\n",
        "1,& \\mathbf{w}^{T} \\mathbf{x} \\geqslant 0,\\\\\n",
        "0,& \\text{otherwise}\n",
        "\\end{cases}\n",
        "$$\n",
        "\n",
        "Find the predicted label vector for the given dataset and enter the sum of the components of the predicted label vector as the answer.\n",
        "\n"
      ],
      "metadata": {
        "id": "tPLSPiXEsEVn"
      }
    },
    {
      "cell_type": "code",
      "source": [
        "# DATA CELL\n",
        "# DO NOT EDIT THIS\n",
        "rng = np.random.default_rng(seed = 1006)\n",
        "d = rng.integers(3, 6)\n",
        "n = rng.integers(40, 60)\n",
        "if n % 2 != 0: n += 1\n",
        "X = rng.uniform(-2, 2, (d, n))\n",
        "y = np.concatenate(\n",
        "    (np.ones(n // 2),\n",
        "    np.zeros(n // 2))\n",
        ")\n",
        "w = rng.uniform(-5, 5, d)"
      ],
      "metadata": {
        "id": "4X-n4sXnDdeD"
      },
      "execution_count": 17,
      "outputs": []
    },
    {
      "cell_type": "code",
      "source": [
        "# Solution\n",
        "# Run the data cell before running this\n",
        "\n",
        "d,n=X.shape\n",
        "sum=0\n",
        "for i in range(n):\n",
        "  if w.T @ X[:,i] >= 0:\n",
        "    y_pred=1\n",
        "    sum+=1\n",
        "\n",
        "print(sum)"
      ],
      "metadata": {
        "id": "EzRf97SlEdc2",
        "colab": {
          "base_uri": "https://localhost:8080/"
        },
        "outputId": "0606893d-9c8f-4a0d-fe72-b9197ef3e7ea"
      },
      "execution_count": 18,
      "outputs": [
        {
          "output_type": "stream",
          "name": "stdout",
          "text": [
            "19\n"
          ]
        }
      ]
    },
    {
      "cell_type": "markdown",
      "source": [
        "## Common data for questions (7) to (10)\n",
        "\n",
        "Consider the following dataset for a binary classification problem. The data-matrix $\\mathbf{X}$ and the label vector $\\mathbf{y}$ are given below."
      ],
      "metadata": {
        "id": "7s-1nc3YFQq4"
      }
    },
    {
      "cell_type": "code",
      "source": [
        "# DATA CELL\n",
        "# DO NOT EDIT THIS\n",
        "X = np.array([\n",
        "    [2, 2, 2, 3, -2, -2, -5, -3],\n",
        "    [0, 1, -1, 0, 0, -3, 3, -1]\n",
        "])\n",
        "y = np.array(\n",
        "    [-1, -1, -1, -1, 1, 1, 1, 1]\n",
        ")"
      ],
      "metadata": {
        "id": "8WSXne4hFtNU"
      },
      "execution_count": 19,
      "outputs": []
    },
    {
      "cell_type": "markdown",
      "source": [
        "## Question-7 [3 marks]\n",
        "\n",
        "Train a perceptron algorithm on this dataset. Cycle through the data-points from left to right, that is, $i = 0$ to $i = n - 1$. Make sure to strictly follow this cycle. If you make an update at data-point $i$, proceed to data-point $i + 1$ in the next iteration. Once you reach $n - 1$, cycle back to $0$.\n",
        "\n",
        "\n",
        "Find the sum of the components of the weight vector and enter the nearest integer as your answer."
      ],
      "metadata": {
        "id": "YzVNgtqKJsE_"
      }
    },
    {
      "cell_type": "code",
      "source": [
        "# Solution\n",
        "# Run the data cell before running this\n",
        "d,n=X.shape\n",
        "w=np.zeros(d)\n",
        "i=0\n",
        "epoch=0\n",
        "correct=0\n",
        "\n",
        "while correct != n:\n",
        "  #Predict\n",
        "  if w.T @ X[:,i] >= 0:\n",
        "    y_pred=1\n",
        "  else:\n",
        "    y_pred=-1\n",
        "\n",
        "  #Check\n",
        "  if y[i] != y_pred:\n",
        "    w+= X[:,i]*y[i]\n",
        "  else:\n",
        "    correct+=1\n",
        "\n",
        "  i+=1\n",
        "\n",
        "  if i==n:\n",
        "    i=0\n",
        "    epoch+=1\n",
        "\n",
        "print(w.sum())\n",
        "# print(f'Converges after {epoch} epoch')"
      ],
      "metadata": {
        "id": "sxoAcslRJ-Iv",
        "colab": {
          "base_uri": "https://localhost:8080/"
        },
        "outputId": "935f695d-f34d-41c6-81d1-3b3732990ca8"
      },
      "execution_count": 22,
      "outputs": [
        {
          "output_type": "stream",
          "name": "stdout",
          "text": [
            "-2.0\n"
          ]
        }
      ]
    },
    {
      "cell_type": "markdown",
      "source": [
        "## Question-8 [3 marks]\n",
        "\n",
        "In the context of hard-margin SVM, find the optimal $\\boldsymbol{\\alpha}^{*}$ by solving the following dual optimization problem.\n",
        "\n",
        "$$\n",
        "\\begin{equation*}\n",
        "\\underset{\\boldsymbol{\\alpha} \\geqslant \\mathbf{0}}{\\max}\\ \\ \\  \\  \\boldsymbol{\\alpha}^{T}\\mathbf{1} -\\frac{1}{2}\\boldsymbol{\\alpha}^{T}\\mathbf{Y}^{T}\\mathbf{X}^{T}\\mathbf{XY} \\boldsymbol{\\alpha}\n",
        "\\end{equation*}\n",
        "$$\n",
        "\n",
        "If the sum of the components of $\\boldsymbol{\\alpha}^{*}$ is $s$, find $\\cfrac{1}{s}$ and enter the nearest integer to $\\cfrac{1}{s}$ as the answer."
      ],
      "metadata": {
        "id": "1GBq4yDPLLt-"
      }
    },
    {
      "cell_type": "code",
      "source": [
        "# Solution\n",
        "# Run the data cell before running this\n",
        "\n",
        "Y=np.diag(y)\n",
        "Q=Y.T @ X.T @ X @ Y\n",
        "\n",
        "def function(alpha):\n",
        "  return 0.5*(alpha.T @ Q @ alpha) - alpha.sum()\n",
        "\n",
        "\n",
        "from scipy.optimize import minimize\n",
        "from scipy.optimize import Bounds\n",
        "\n",
        "res= minimize(function, x0=np.zeros(n), bounds=Bounds(0,np.inf))\n",
        "alpha_star= res.x\n",
        "s=alpha_star.sum()\n",
        "round(1/s)"
      ],
      "metadata": {
        "id": "akscrU-gNktD",
        "colab": {
          "base_uri": "https://localhost:8080/"
        },
        "outputId": "5f3ea353-bcc9-4f36-853e-9a5961d2f471"
      },
      "execution_count": 24,
      "outputs": [
        {
          "output_type": "execute_result",
          "data": {
            "text/plain": [
              "4"
            ]
          },
          "metadata": {},
          "execution_count": 24
        }
      ]
    },
    {
      "cell_type": "markdown",
      "source": [
        "## Question-9 [3 marks]\n",
        "\n",
        "Find the optimal weight vector $\\mathbf{w}^{*}$. If the sum of the components of $\\mathbf{w}^{*}$ is $s$, find $\\cfrac{1}{s}$ and enter the nearest integer to $\\cfrac{1}{s}$ as the answer."
      ],
      "metadata": {
        "id": "BwXCnOmfPGJO"
      }
    },
    {
      "cell_type": "code",
      "source": [
        "# Solution\n",
        "w_star= X @ Y @ alpha_star\n",
        "s=w_star.sum()\n",
        "round(1/s)"
      ],
      "metadata": {
        "id": "6rIsgdJHO7-f",
        "colab": {
          "base_uri": "https://localhost:8080/"
        },
        "outputId": "0e7055dd-7f2c-455b-e3a0-c4948eadd429"
      },
      "execution_count": 25,
      "outputs": [
        {
          "output_type": "execute_result",
          "data": {
            "text/plain": [
              "-2"
            ]
          },
          "metadata": {},
          "execution_count": 25
        }
      ]
    },
    {
      "cell_type": "markdown",
      "source": [
        "## Question-10 [3 marks]\n",
        "\n",
        "Find the number of support vectors."
      ],
      "metadata": {
        "id": "KuQwLBPtPnsq"
      }
    },
    {
      "cell_type": "code",
      "source": [
        "#Solution\n",
        "X[:,alpha_star>0]\n",
        "X[:,alpha_star>0].shape[1]"
      ],
      "metadata": {
        "id": "8gWUhsyGTFFu",
        "colab": {
          "base_uri": "https://localhost:8080/"
        },
        "outputId": "6aad055c-4311-482e-f1e9-425d1b481736"
      },
      "execution_count": 27,
      "outputs": [
        {
          "output_type": "execute_result",
          "data": {
            "text/plain": [
              "5"
            ]
          },
          "metadata": {},
          "execution_count": 27
        }
      ]
    },
    {
      "cell_type": "markdown",
      "source": [
        "##Regression\n",
        "\n",
        "## Common data for questions (11) to (14).\n",
        "\n",
        "Run the following cell to get the training and test dataset. The following variables are used in the cell:\n",
        "\n",
        "- `X_train` = Training dataset of shape `d × n`\n",
        "\n",
        "- `y_train` = label vector corresponding to training dataset\n",
        "\n",
        "- `X_test` = Test dataset\n",
        "\n",
        "- `y_test` = label vector corresponding to test dataset\n"
      ],
      "metadata": {
        "id": "o1Oq6QlkUTTC"
      }
    },
    {
      "cell_type": "code",
      "source": [
        "# DATA CELL\n",
        "# DO NOT EDIT THIS CELL\n",
        "import numpy as np\n",
        "import matplotlib.pyplot as plt\n",
        "\n",
        "# Generate synthetic data\n",
        "np.random.seed(42)\n",
        "\n",
        "# Number of samples and features\n",
        "num_samples = 200\n",
        "num_features = 5\n",
        "\n",
        "# Generate random features\n",
        "X = np.random.randn(num_samples, num_features)\n",
        "\n",
        "# Generate true coefficients for each feature\n",
        "true_coef = np.random.uniform(-2, 2, size=num_features)\n",
        "\n",
        "# Generate noise\n",
        "noise = np.random.normal(loc=0, scale=0.5, size=num_samples)\n",
        "\n",
        "# Generate target variable\n",
        "y = np.dot(X, true_coef) + noise\n",
        "\n",
        "# Split data into training and test sets\n",
        "split = int(0.8 * num_samples)  # 80% training, 20% test\n",
        "X_train, X_test = X[:split].T, X[split:].T\n",
        "y_train, y_test = y[:split], y[split:]"
      ],
      "metadata": {
        "id": "a6VWn4OEguZT"
      },
      "execution_count": null,
      "outputs": []
    },
    {
      "cell_type": "markdown",
      "source": [
        "## Question-11 [3 marks]\n",
        "\n",
        "Add the dummy feature in both training and test dataset. If we learn the linear regression model on the training dataset (with the dummy feature added), how many weights need to be learned by the model?"
      ],
      "metadata": {
        "id": "U3QLu-bF9933"
      }
    },
    {
      "cell_type": "code",
      "source": [
        "#Solution"
      ],
      "metadata": {
        "id": "PA9kNoM3TU1Y"
      },
      "execution_count": null,
      "outputs": []
    },
    {
      "cell_type": "markdown",
      "source": [
        "## Note\n",
        "\n",
        "For questions (12) to (14), any reference to the training or test dataset will refer to the dataset obtained from question-11 that has the dummy feature added to it. You have to add the dummy feature to both training and test."
      ],
      "metadata": {
        "id": "x8o9BSzETGtq"
      }
    },
    {
      "cell_type": "markdown",
      "source": [
        "## Question-12 [3 marks]\n",
        "\n",
        "If $w$ is the weight vector learnt using the least squares linear regression model (normal equation method), what will be euclidean norm of $w$? Enter your answer correct to two decimal places."
      ],
      "metadata": {
        "id": "qKH_R4L4YbbU"
      }
    },
    {
      "cell_type": "code",
      "source": [
        "#Solution"
      ],
      "metadata": {
        "id": "JnicLbUDTdS8"
      },
      "execution_count": null,
      "outputs": []
    },
    {
      "cell_type": "markdown",
      "source": [
        "## Question-13 [3 marks]\n",
        "\n",
        "Find the root mean square error on the training dataset using the model defined in question $12$.\n",
        "\n",
        " $$\\text{RMSE}  =  \\sqrt{\\dfrac{1}{n}\\sum\\limits_{i=1}^{n} (y_i- \\hat{y}_i)^2}\n",
        "$$\n",
        "\n",
        "Enter your answer correct to two decimal places."
      ],
      "metadata": {
        "id": "e0_JnoyHBnAg"
      }
    },
    {
      "cell_type": "code",
      "source": [
        "#Solution"
      ],
      "metadata": {
        "id": "ypd_k3hWTfuY"
      },
      "execution_count": null,
      "outputs": []
    },
    {
      "cell_type": "markdown",
      "source": [
        "## Question-14 [3 marks]\n",
        "\n",
        "Find the root mean square error on the test dataset using the model defined in question 12. Enter your answer correct to two decimal places."
      ],
      "metadata": {
        "id": "x1qNOppgrD75"
      }
    },
    {
      "cell_type": "code",
      "source": [
        "#Solution"
      ],
      "metadata": {
        "id": "s60QVNoDTgx8"
      },
      "execution_count": null,
      "outputs": []
    },
    {
      "cell_type": "markdown",
      "source": [
        "## Common data for questions (15) to (17)\n",
        "\n",
        "Consider a dataset $\\mathbf{X}$ for a clustering problem. Start with the initial means as $\\boldsymbol{\\mu}_1 = (2, 3, 5)$ and $\\boldsymbol{\\mu}_2 = (-3, -5, -7)$ and run K-means with $k = 2$.\n",
        "\n",
        "**Note**: Set `mu_1` and `mu_2` as `np.float64` arrays. You can set `dtype = np.float64` while creating the array. Use `np.array?` if you are still unsure about this. This is important for your final answer to match the ones we have configured.\n"
      ],
      "metadata": {
        "id": "ChxnTNlDydTd"
      }
    },
    {
      "cell_type": "code",
      "source": [
        "# DATA CELL\n",
        "# DO NOT EDIT THIS\n",
        "X = np.array([\n",
        "    [-8.2, 3.2, -5.1, 4., -7, 8.1, -2],\n",
        "    [-10.1, 4.1, -3.3, 2., -5, 6.2, -5],\n",
        "    [-3.4, 4.9, -3, 2., -5, 6.5, -5.3]\n",
        "])"
      ],
      "metadata": {
        "id": "WvexSrlzz20i"
      },
      "execution_count": 29,
      "outputs": []
    },
    {
      "cell_type": "code",
      "source": [
        "# Solution\n",
        "# Run the data cell before running this\n",
        "\n",
        "mu_1=np.array([2,3,5]).astype(np.float64)\n",
        "mu_2=np.array([-3,-5,-7]).astype(np.float64)\n",
        "\n",
        "mus=np.array([mu_1, mu_2]).reshape(3,2)\n",
        "\n",
        "d,n=X.shape\n",
        "z_prev=np.zeros(n)\n",
        "z=np.ones(n)\n",
        "k=2\n",
        "\n",
        "while not np.array_equal(z_prev,z):\n",
        "  z_prev=z.copy()\n",
        "\n",
        "  #Cluster Assignment\n",
        "  for i in range(n):\n",
        "    dist=np.linalg.norm(mus-X[:,i].reshape(3,1),axis=0)\n",
        "    z[i]=np.argmin(dist)\n",
        "\n",
        "  #Mean Re-calculation\n",
        "  for j in range(k):\n",
        "      if np.any(z==j):\n",
        "        mus[:,j]=X[:,z==j].mean(axis=1)\n",
        "\n",
        "\n",
        "mus\n",
        ""
      ],
      "metadata": {
        "id": "mLXVo6S-0T8A",
        "colab": {
          "base_uri": "https://localhost:8080/"
        },
        "outputId": "c3aa2a79-55e4-4b0a-f7b0-aceb7f48e9d6"
      },
      "execution_count": 32,
      "outputs": [
        {
          "output_type": "execute_result",
          "data": {
            "text/plain": [
              "array([[ 5.1       , -5.575     ],\n",
              "       [ 4.1       , -5.85      ],\n",
              "       [ 4.46666667, -4.175     ]])"
            ]
          },
          "metadata": {},
          "execution_count": 32
        }
      ]
    },
    {
      "cell_type": "markdown",
      "source": [
        "## Question-15 [3 marks]\n",
        "\n",
        "Find the norm of the final mean $\\boldsymbol{\\mu}_1$. Enter the nearest integer as your answer.\n",
        "\n"
      ],
      "metadata": {
        "id": "IghtGUgx0UhS"
      }
    },
    {
      "cell_type": "code",
      "source": [
        "# Solution\n",
        "round(np.linalg.norm(mus[:,0]))"
      ],
      "metadata": {
        "id": "Ii_9Pq-m7fLu",
        "colab": {
          "base_uri": "https://localhost:8080/"
        },
        "outputId": "4e8b5fac-1cdf-4fff-b9e8-688cbcbb4f09"
      },
      "execution_count": 34,
      "outputs": [
        {
          "output_type": "execute_result",
          "data": {
            "text/plain": [
              "8"
            ]
          },
          "metadata": {},
          "execution_count": 34
        }
      ]
    },
    {
      "cell_type": "markdown",
      "source": [
        "## Question-16 [3 marks]\n",
        "\n",
        "Find the norm of the final mean $\\boldsymbol{\\mu}_2$. Enter the nearest integer as your answer.\n",
        "\n"
      ],
      "metadata": {
        "id": "qcdc2zqE7jZc"
      }
    },
    {
      "cell_type": "code",
      "source": [
        "# Solution\n",
        "round(np.linalg.norm(mus[:,1]))"
      ],
      "metadata": {
        "id": "Zo7Z9GZX7mTY",
        "colab": {
          "base_uri": "https://localhost:8080/"
        },
        "outputId": "6b49a827-41d8-48b8-9925-6218b7fe6349"
      },
      "execution_count": 35,
      "outputs": [
        {
          "output_type": "execute_result",
          "data": {
            "text/plain": [
              "9"
            ]
          },
          "metadata": {},
          "execution_count": 35
        }
      ]
    },
    {
      "cell_type": "markdown",
      "source": [
        "## Question-17 [3 marks]\n",
        "\n",
        "Find the cluster to which the data-point $(0, 1, 2)$ belongs. Enter $1$ if it is closer to $\\boldsymbol{\\mu}_1$ than $\\boldsymbol{\\mu}_2$ and $2$ otherwise."
      ],
      "metadata": {
        "id": "tRYQF6D272ul"
      }
    },
    {
      "cell_type": "code",
      "source": [
        "# Solution\n",
        "m= np.array([0,1,3]).reshape(3,1)\n",
        "\n",
        "dist=np.linalg.norm(mus-m, axis=0)\n",
        "if np.argmin(dist) ==0:\n",
        "  print(1)\n",
        "\n",
        "if np.argmin(dist)==1:\n",
        "  print(2)"
      ],
      "metadata": {
        "id": "TiPBhf7b8Asz",
        "colab": {
          "base_uri": "https://localhost:8080/"
        },
        "outputId": "d9aeb436-9d72-4943-a677-f036e8c6704f"
      },
      "execution_count": 36,
      "outputs": [
        {
          "output_type": "stream",
          "name": "stdout",
          "text": [
            "1\n"
          ]
        }
      ]
    },
    {
      "cell_type": "code",
      "source": [],
      "metadata": {
        "id": "maGOkQwnSLBU"
      },
      "execution_count": null,
      "outputs": []
    }
  ]
}